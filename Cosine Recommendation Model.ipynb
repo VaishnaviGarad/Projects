{
 "cells": [
  {
   "cell_type": "markdown",
   "id": "3bdc385c",
   "metadata": {},
   "source": [
    "# Recommendation Model with Cosine Similarity"
   ]
  },
  {
   "cell_type": "code",
   "execution_count": 2,
   "id": "7c2c20ce",
   "metadata": {},
   "outputs": [],
   "source": [
    "import pandas as pd\n",
    "from sklearn.metrics.pairwise import cosine_similarity"
   ]
  },
  {
   "cell_type": "code",
   "execution_count": null,
   "id": "6377da86",
   "metadata": {},
   "outputs": [],
   "source": [
    "#reading df\n",
    "df= pd.read_csv('/Users/azadkabira/Desktop/Internship/EDA Completed Dataframes/Combined Dataframes.csv')\n",
    "print('checkpoint 1\\n', df)"
   ]
  },
  {
   "cell_type": "code",
   "execution_count": null,
   "id": "324397cb",
   "metadata": {},
   "outputs": [],
   "source": [
    "#setting parameters for matrix\n",
    "book_reader_matrix = pd.get_dummies(df[['bookauthor', 'Location']])"
   ]
  },
  {
   "cell_type": "code",
   "execution_count": null,
   "id": "29bda457",
   "metadata": {},
   "outputs": [],
   "source": [
    "#Calculating the Cosine Similarity\n",
    "book_reader_similarity = cosine_similarity(book_reader_matrix)"
   ]
  },
  {
   "cell_type": "code",
   "execution_count": null,
   "id": "b4754c13",
   "metadata": {},
   "outputs": [],
   "source": [
    "# Recommend books for a specific reader\n",
    "reader_index = 2  # Change this to the ISBN of the desired reader, in this case userID '2'\n",
    "similar_books = book_reader_similarity[reader_index].argsort()[:-1][::-1]"
   ]
  },
  {
   "cell_type": "code",
   "execution_count": null,
   "id": "71b89b30",
   "metadata": {},
   "outputs": [],
   "source": [
    "# Display recommended books\n",
    "recommended_books = df.iloc[similar_books]['ISBN']\n",
    "print(recommended_books)"
   ]
  }
 ],
 "metadata": {
  "kernelspec": {
   "display_name": "Python 3 (ipykernel)",
   "language": "python",
   "name": "python3"
  },
  "language_info": {
   "codemirror_mode": {
    "name": "ipython",
    "version": 3
   },
   "file_extension": ".py",
   "mimetype": "text/x-python",
   "name": "python",
   "nbconvert_exporter": "python",
   "pygments_lexer": "ipython3",
   "version": "3.9.13"
  }
 },
 "nbformat": 4,
 "nbformat_minor": 5
}
