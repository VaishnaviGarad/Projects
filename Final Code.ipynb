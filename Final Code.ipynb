{
 "cells": [
  {
   "cell_type": "code",
   "execution_count": 1,
   "id": "b3bc698a",
   "metadata": {},
   "outputs": [],
   "source": [
    "#importing libraries\n",
    "import pandas as pd\n",
    "#Model\n",
    "from sklearn.metrics.pairwise import cosine_similarity\n",
    "#Deployment\n",
    "import pickle\n",
    "import streamlit as st"
   ]
  },
  {
   "cell_type": "code",
   "execution_count": 2,
   "id": "b7132cc6",
   "metadata": {},
   "outputs": [],
   "source": [
    "# Function for popularity-based recommendations\n",
    "def popularity_recommendation_with_titles(df, n_recommendations=5):\n",
    "    # Group by ISBN and count the number of ratings\n",
    "    book_popularity = df.groupby('ISBN')['book_rating'].count().reset_index(name='popularity')\n",
    "\n",
    "    # Sort books by popularity in descending order\n",
    "    sorted_books = book_popularity.sort_values(by='popularity', ascending=False)\n",
    "\n",
    "    # Get the top N recommendations\n",
    "    top_recommendations = sorted_books.head(n_recommendations)\n",
    "\n",
    "    # Extract ISBNs from the recommendations\n",
    "    recommendations_isbn = top_recommendations['ISBN'].tolist()\n",
    "\n",
    "    # Extract book titles using the ISBN codes\n",
    "    recommendations_titles = [\n",
    "        df[df['ISBN'] == isbn]['booktiltle'].iloc[0] for isbn in recommendations_isbn\n",
    "    ]\n",
    "\n",
    "    return recommendations_titles"
   ]
  },
  {
   "cell_type": "code",
   "execution_count": 3,
   "id": "c6b30885",
   "metadata": {},
   "outputs": [],
   "source": [
    "# Read the full DataFrame\n",
    "df = pd.read_csv('Combined_Dataframes.csv')"
   ]
  },
  {
   "cell_type": "code",
   "execution_count": 4,
   "id": "d07ac5e0",
   "metadata": {},
   "outputs": [],
   "source": [
    "# Downsize the DataFrame using popularity-based recommendations\n",
    "downsized_books = popularity_recommendation_with_titles(df, n_recommendations=3000)  # Choose an appropriate number"
   ]
  },
  {
   "cell_type": "code",
   "execution_count": 5,
   "id": "ac992157",
   "metadata": {},
   "outputs": [],
   "source": [
    "# Create a new DataFrame based on the downsized book list\n",
    "new_df = df[df['booktiltle'].isin(downsized_books)]"
   ]
  },
  {
   "cell_type": "code",
   "execution_count": 6,
   "id": "7ac6f013",
   "metadata": {},
   "outputs": [
    {
     "ename": "MemoryError",
     "evalue": "Unable to allocate 10.9 GiB for an array with shape (118484, 12374) and data type float64",
     "output_type": "error",
     "traceback": [
      "\u001b[1;31m---------------------------------------------------------------------------\u001b[0m",
      "\u001b[1;31mMemoryError\u001b[0m                               Traceback (most recent call last)",
      "\u001b[1;32m~\\AppData\\Local\\Temp\\ipykernel_10528\\4005308890.py\u001b[0m in \u001b[0;36m<module>\u001b[1;34m\u001b[0m\n\u001b[0;32m      1\u001b[0m \u001b[1;31m# Calculate cosine similarity on the new DataFrame\u001b[0m\u001b[1;33m\u001b[0m\u001b[1;33m\u001b[0m\u001b[0m\n\u001b[0;32m      2\u001b[0m \u001b[0mbook_reader_matrix\u001b[0m \u001b[1;33m=\u001b[0m \u001b[0mpd\u001b[0m\u001b[1;33m.\u001b[0m\u001b[0mget_dummies\u001b[0m\u001b[1;33m(\u001b[0m\u001b[0mnew_df\u001b[0m\u001b[1;33m[\u001b[0m\u001b[1;33m[\u001b[0m\u001b[1;34m'bookauthor'\u001b[0m\u001b[1;33m,\u001b[0m \u001b[1;34m'Location'\u001b[0m\u001b[1;33m]\u001b[0m\u001b[1;33m]\u001b[0m\u001b[1;33m)\u001b[0m\u001b[1;33m\u001b[0m\u001b[1;33m\u001b[0m\u001b[0m\n\u001b[1;32m----> 3\u001b[1;33m \u001b[0mbook_reader_similarity\u001b[0m \u001b[1;33m=\u001b[0m \u001b[0mcosine_similarity\u001b[0m\u001b[1;33m(\u001b[0m\u001b[0mbook_reader_matrix\u001b[0m\u001b[1;33m)\u001b[0m\u001b[1;33m\u001b[0m\u001b[1;33m\u001b[0m\u001b[0m\n\u001b[0m",
      "\u001b[1;32m~\\anaconda3\\lib\\site-packages\\sklearn\\metrics\\pairwise.py\u001b[0m in \u001b[0;36mcosine_similarity\u001b[1;34m(X, Y, dense_output)\u001b[0m\n\u001b[0;32m   1249\u001b[0m     \u001b[1;31m# to avoid recursive import\u001b[0m\u001b[1;33m\u001b[0m\u001b[1;33m\u001b[0m\u001b[0m\n\u001b[0;32m   1250\u001b[0m \u001b[1;33m\u001b[0m\u001b[0m\n\u001b[1;32m-> 1251\u001b[1;33m     \u001b[0mX\u001b[0m\u001b[1;33m,\u001b[0m \u001b[0mY\u001b[0m \u001b[1;33m=\u001b[0m \u001b[0mcheck_pairwise_arrays\u001b[0m\u001b[1;33m(\u001b[0m\u001b[0mX\u001b[0m\u001b[1;33m,\u001b[0m \u001b[0mY\u001b[0m\u001b[1;33m)\u001b[0m\u001b[1;33m\u001b[0m\u001b[1;33m\u001b[0m\u001b[0m\n\u001b[0m\u001b[0;32m   1252\u001b[0m \u001b[1;33m\u001b[0m\u001b[0m\n\u001b[0;32m   1253\u001b[0m     \u001b[0mX_normalized\u001b[0m \u001b[1;33m=\u001b[0m \u001b[0mnormalize\u001b[0m\u001b[1;33m(\u001b[0m\u001b[0mX\u001b[0m\u001b[1;33m,\u001b[0m \u001b[0mcopy\u001b[0m\u001b[1;33m=\u001b[0m\u001b[1;32mTrue\u001b[0m\u001b[1;33m)\u001b[0m\u001b[1;33m\u001b[0m\u001b[1;33m\u001b[0m\u001b[0m\n",
      "\u001b[1;32m~\\anaconda3\\lib\\site-packages\\sklearn\\metrics\\pairwise.py\u001b[0m in \u001b[0;36mcheck_pairwise_arrays\u001b[1;34m(X, Y, precomputed, dtype, accept_sparse, force_all_finite, copy)\u001b[0m\n\u001b[0;32m    145\u001b[0m \u001b[1;33m\u001b[0m\u001b[0m\n\u001b[0;32m    146\u001b[0m     \u001b[1;32mif\u001b[0m \u001b[0mY\u001b[0m \u001b[1;32mis\u001b[0m \u001b[0mX\u001b[0m \u001b[1;32mor\u001b[0m \u001b[0mY\u001b[0m \u001b[1;32mis\u001b[0m \u001b[1;32mNone\u001b[0m\u001b[1;33m:\u001b[0m\u001b[1;33m\u001b[0m\u001b[1;33m\u001b[0m\u001b[0m\n\u001b[1;32m--> 147\u001b[1;33m         X = Y = check_array(\n\u001b[0m\u001b[0;32m    148\u001b[0m             \u001b[0mX\u001b[0m\u001b[1;33m,\u001b[0m\u001b[1;33m\u001b[0m\u001b[1;33m\u001b[0m\u001b[0m\n\u001b[0;32m    149\u001b[0m             \u001b[0maccept_sparse\u001b[0m\u001b[1;33m=\u001b[0m\u001b[0maccept_sparse\u001b[0m\u001b[1;33m,\u001b[0m\u001b[1;33m\u001b[0m\u001b[1;33m\u001b[0m\u001b[0m\n",
      "\u001b[1;32m~\\anaconda3\\lib\\site-packages\\sklearn\\utils\\validation.py\u001b[0m in \u001b[0;36mcheck_array\u001b[1;34m(array, accept_sparse, accept_large_sparse, dtype, order, copy, force_all_finite, ensure_2d, allow_nd, ensure_min_samples, ensure_min_features, estimator)\u001b[0m\n\u001b[0;32m    744\u001b[0m                     \u001b[0marray\u001b[0m \u001b[1;33m=\u001b[0m \u001b[0marray\u001b[0m\u001b[1;33m.\u001b[0m\u001b[0mastype\u001b[0m\u001b[1;33m(\u001b[0m\u001b[0mdtype\u001b[0m\u001b[1;33m,\u001b[0m \u001b[0mcasting\u001b[0m\u001b[1;33m=\u001b[0m\u001b[1;34m\"unsafe\"\u001b[0m\u001b[1;33m,\u001b[0m \u001b[0mcopy\u001b[0m\u001b[1;33m=\u001b[0m\u001b[1;32mFalse\u001b[0m\u001b[1;33m)\u001b[0m\u001b[1;33m\u001b[0m\u001b[1;33m\u001b[0m\u001b[0m\n\u001b[0;32m    745\u001b[0m                 \u001b[1;32melse\u001b[0m\u001b[1;33m:\u001b[0m\u001b[1;33m\u001b[0m\u001b[1;33m\u001b[0m\u001b[0m\n\u001b[1;32m--> 746\u001b[1;33m                     \u001b[0marray\u001b[0m \u001b[1;33m=\u001b[0m \u001b[0mnp\u001b[0m\u001b[1;33m.\u001b[0m\u001b[0masarray\u001b[0m\u001b[1;33m(\u001b[0m\u001b[0marray\u001b[0m\u001b[1;33m,\u001b[0m \u001b[0morder\u001b[0m\u001b[1;33m=\u001b[0m\u001b[0morder\u001b[0m\u001b[1;33m,\u001b[0m \u001b[0mdtype\u001b[0m\u001b[1;33m=\u001b[0m\u001b[0mdtype\u001b[0m\u001b[1;33m)\u001b[0m\u001b[1;33m\u001b[0m\u001b[1;33m\u001b[0m\u001b[0m\n\u001b[0m\u001b[0;32m    747\u001b[0m             \u001b[1;32mexcept\u001b[0m \u001b[0mComplexWarning\u001b[0m \u001b[1;32mas\u001b[0m \u001b[0mcomplex_warning\u001b[0m\u001b[1;33m:\u001b[0m\u001b[1;33m\u001b[0m\u001b[1;33m\u001b[0m\u001b[0m\n\u001b[0;32m    748\u001b[0m                 raise ValueError(\n",
      "\u001b[1;31mMemoryError\u001b[0m: Unable to allocate 10.9 GiB for an array with shape (118484, 12374) and data type float64"
     ]
    }
   ],
   "source": [
    "# Calculate cosine similarity on the new DataFrame\n",
    "book_reader_matrix = pd.get_dummies(new_df[['bookauthor', 'Location']])\n",
    "book_reader_similarity = cosine_similarity(book_reader_matrix)"
   ]
  },
  {
   "cell_type": "code",
   "execution_count": null,
   "id": "69650c56",
   "metadata": {},
   "outputs": [],
   "source": [
    "# Streamlit app begins\n",
    "st.title('Book Recommendation App')\n",
    "user_input_id = st.text_input(\"Enter the userID: \")"
   ]
  },
  {
   "cell_type": "code",
   "execution_count": null,
   "id": "076e7171",
   "metadata": {},
   "outputs": [],
   "source": [
    "if user_input_id:\n",
    "    user_input_id = int(user_input_id)\n",
    "\n",
    "    # Check if the entered user ID exists in the DataFrame\n",
    "    if user_input_id not in new_df['userID'].values:\n",
    "        st.write('Invalid UserID')\n",
    "    else:\n",
    "        st.write('UserID: ', user_input_id)\n",
    "\n",
    "        # Retrieve the index of the user\n",
    "        user_index = new_df[new_df['userID'] == user_input_id].index[0]\n",
    "\n",
    "        # Use cosine similarity on the new DataFrame for recommendations\n",
    "        similarity_scores = book_reader_similarity[user_index]\n",
    "\n",
    "        # Sort and get top similar users (excluding the user itself)\n",
    "        similar_users_indices = similarity_scores.argsort()[::-1][1:]\n",
    "\n",
    "        # Recommend books based on most similar user\n",
    "        most_similar_user_index = similar_users_indices[0]\n",
    "        recommended_books_indices = book_reader_similarity[most_similar_user_index].argsort()[::-1]\n",
    "        recommended"
   ]
  },
  {
   "cell_type": "code",
   "execution_count": null,
   "id": "2e6d0718",
   "metadata": {},
   "outputs": [],
   "source": []
  }
 ],
 "metadata": {
  "kernelspec": {
   "display_name": "Python 3 (ipykernel)",
   "language": "python",
   "name": "python3"
  },
  "language_info": {
   "codemirror_mode": {
    "name": "ipython",
    "version": 3
   },
   "file_extension": ".py",
   "mimetype": "text/x-python",
   "name": "python",
   "nbconvert_exporter": "python",
   "pygments_lexer": "ipython3",
   "version": "3.9.13"
  }
 },
 "nbformat": 4,
 "nbformat_minor": 5
}
